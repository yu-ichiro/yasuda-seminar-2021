{
 "cells": [
  {
   "cell_type": "markdown",
   "id": "98ddb37f-8440-4e68-ae57-fe32c662e6cc",
   "metadata": {},
   "source": [
    "# バージョンの確認\n",
    "\n",
    "まずはバージョンを確認しましょう！"
   ]
  },
  {
   "cell_type": "code",
   "execution_count": 2,
   "id": "2668e1b3-efac-48c1-9786-2afcac4c73aa",
   "metadata": {
    "pycharm": {
     "name": "#%%\n"
    }
   },
   "outputs": [
    {
     "name": "stdout",
     "output_type": "stream",
     "text": [
      "3.9.1 (default, Mar  7 2021, 01:49:35) \n",
      "[Clang 12.0.0 (clang-1200.0.32.29)]\n"
     ]
    }
   ],
   "source": [
    "import sys\n",
    "\n",
    "print(sys.version)"
   ]
  }
 ],
 "metadata": {
  "kernelspec": {
   "display_name": "Python 3",
   "language": "python",
   "name": "python3"
  },
  "language_info": {
   "codemirror_mode": {
    "name": "ipython",
    "version": 3
   },
   "file_extension": ".py",
   "mimetype": "text/x-python",
   "name": "python",
   "nbconvert_exporter": "python",
   "pygments_lexer": "ipython3",
   "version": "3.9.1"
  }
 },
 "nbformat": 4,
 "nbformat_minor": 5
}